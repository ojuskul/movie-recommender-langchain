{
 "cells": [
  {
   "cell_type": "code",
   "execution_count": 1,
   "id": "0834345e-8ea0-4440-897c-0c2a3519b659",
   "metadata": {},
   "outputs": [
    {
     "name": "stdout",
     "output_type": "stream",
     "text": [
      "Requirement already satisfied: aiohttp in /opt/homebrew/Cellar/jupyterlab/4.4.4/libexec/lib/python3.13/site-packages (3.12.14)\n",
      "Requirement already satisfied: nest_asyncio in /opt/homebrew/Cellar/jupyterlab/4.4.4/libexec/lib/python3.13/site-packages (1.6.0)\n",
      "Requirement already satisfied: pandas in /opt/homebrew/Cellar/jupyterlab/4.4.4/libexec/lib/python3.13/site-packages (2.3.1)\n",
      "Requirement already satisfied: pyarrow in /opt/homebrew/Cellar/jupyterlab/4.4.4/libexec/lib/python3.13/site-packages (20.0.0)\n",
      "Requirement already satisfied: python-dotenv in /opt/homebrew/Cellar/jupyterlab/4.4.4/libexec/lib/python3.13/site-packages (1.1.1)\n",
      "Requirement already satisfied: tqdm in /opt/homebrew/Cellar/jupyterlab/4.4.4/libexec/lib/python3.13/site-packages (4.67.1)\n",
      "Requirement already satisfied: aiohappyeyeballs>=2.5.0 in /opt/homebrew/Cellar/jupyterlab/4.4.4/libexec/lib/python3.13/site-packages (from aiohttp) (2.6.1)\n",
      "Requirement already satisfied: aiosignal>=1.4.0 in /opt/homebrew/Cellar/jupyterlab/4.4.4/libexec/lib/python3.13/site-packages (from aiohttp) (1.4.0)\n",
      "Requirement already satisfied: attrs>=17.3.0 in /opt/homebrew/Cellar/jupyterlab/4.4.4/libexec/lib/python3.13/site-packages (from aiohttp) (25.3.0)\n",
      "Requirement already satisfied: frozenlist>=1.1.1 in /opt/homebrew/Cellar/jupyterlab/4.4.4/libexec/lib/python3.13/site-packages (from aiohttp) (1.7.0)\n",
      "Requirement already satisfied: multidict<7.0,>=4.5 in /opt/homebrew/Cellar/jupyterlab/4.4.4/libexec/lib/python3.13/site-packages (from aiohttp) (6.6.3)\n",
      "Requirement already satisfied: propcache>=0.2.0 in /opt/homebrew/Cellar/jupyterlab/4.4.4/libexec/lib/python3.13/site-packages (from aiohttp) (0.3.2)\n",
      "Requirement already satisfied: yarl<2.0,>=1.17.0 in /opt/homebrew/Cellar/jupyterlab/4.4.4/libexec/lib/python3.13/site-packages (from aiohttp) (1.20.1)\n",
      "Requirement already satisfied: idna>=2.0 in /opt/homebrew/Cellar/jupyterlab/4.4.4/libexec/lib/python3.13/site-packages (from yarl<2.0,>=1.17.0->aiohttp) (3.10)\n",
      "Requirement already satisfied: numpy>=1.26.0 in /opt/homebrew/Cellar/jupyterlab/4.4.4/libexec/lib/python3.13/site-packages (from pandas) (2.3.1)\n",
      "Requirement already satisfied: python-dateutil>=2.8.2 in /opt/homebrew/Cellar/jupyterlab/4.4.4/libexec/lib/python3.13/site-packages (from pandas) (2.9.0.post0)\n",
      "Requirement already satisfied: pytz>=2020.1 in /opt/homebrew/Cellar/jupyterlab/4.4.4/libexec/lib/python3.13/site-packages (from pandas) (2025.2)\n",
      "Requirement already satisfied: tzdata>=2022.7 in /opt/homebrew/Cellar/jupyterlab/4.4.4/libexec/lib/python3.13/site-packages (from pandas) (2025.2)\n",
      "Requirement already satisfied: six>=1.5 in /opt/homebrew/Cellar/jupyterlab/4.4.4/libexec/lib/python3.13/site-packages (from python-dateutil>=2.8.2->pandas) (1.17.0)\n",
      "Note: you may need to restart the kernel to use updated packages.\n"
     ]
    }
   ],
   "source": [
    "#Install + Imports (run only once per environment)\n",
    "%pip install aiohttp nest_asyncio pandas pyarrow python-dotenv tqdm\n",
    "\n",
    "import os, asyncio, random, json, time, math\n",
    "from pathlib import Path\n",
    "from typing import List, Dict, Any\n",
    "import nest_asyncio, aiohttp\n",
    "import pandas as pd\n",
    "from tqdm import tqdm\n",
    "nest_asyncio.apply()"
   ]
  },
  {
   "cell_type": "code",
   "execution_count": 2,
   "id": "5bb45e7e-fc58-44f4-a988-e5208854058c",
   "metadata": {},
   "outputs": [],
   "source": [
    "# Config & Paths\n",
    "from dotenv import load_dotenv\n",
    "# load_dotenv()\n",
    "\n",
    "# TMDB_TOKEN       = os.environ[\"TMDB_TOKEN\"]\n",
    "TMDB_TOKEN = \"<YOUR_TOKEN>\"\n",
    "CONCURRENCY = 4\n",
    "#CONCURRENCY      = int(os.getenv(\"TMDB_CONCURRENCY\", 4))  # max 4 for safety\n",
    "BASE             = \"https://api.themoviedb.org/3\"\n",
    "HEADERS          = {\"Authorization\": f\"Bearer {TMDB_TOKEN}\", \"accept\": \"application/json\"}\n",
    "\n",
    "RAW_DIR   = Path(\"data/raw\");       \n",
    "RAW_DIR.mkdir(parents=True, exist_ok=True)\n",
    "PROC_DIR  = Path(\"data/processed\"); \n",
    "PROC_DIR.mkdir(parents=True, exist_ok=True)\n",
    "\n",
    "SAMPLE_SIZE = 19990"
   ]
  },
  {
   "cell_type": "code",
   "execution_count": 3,
   "id": "b927370f-c86d-4b71-8805-d40728528631",
   "metadata": {},
   "outputs": [],
   "source": [
    "# HTTP helpers with retry + rate-limit guard\n",
    "class TMDBClient:\n",
    "    def __init__(self, session, sem):\n",
    "        self.s = session\n",
    "        self.sem = sem\n",
    "\n",
    "    async def get(self, url, params=None, max_retries=3):\n",
    "        for attempt in range(max_retries):\n",
    "            async with self.sem:                       # enforce global QPS\n",
    "                async with self.s.get(url, headers=HEADERS, params=params) as r:\n",
    "                    if r.status == 429:                # TMDB rate-limit hit\n",
    "                        retry_after = int(r.headers.get(\"Retry-After\", 2))\n",
    "                        await asyncio.sleep(retry_after + 0.5)\n",
    "                        continue\n",
    "                    if r.status >= 500:\n",
    "                        await asyncio.sleep(2 ** attempt)\n",
    "                        continue\n",
    "                    r.raise_for_status()\n",
    "                    return await r.json()\n",
    "        raise RuntimeError(f\"Failed GET {url} after {max_retries} retries\")\n"
   ]
  },
  {
   "cell_type": "code",
   "execution_count": 4,
   "id": "f045601d-7c2c-4054-ba01-9373faa725ca",
   "metadata": {},
   "outputs": [],
   "source": [
    "# Iterator over discover/movie to collect IDs\n",
    "async def discover_ids(year: int, client: TMDBClient) -> List[int]:\n",
    "    ids, page = [], 1\n",
    "    while page <= 500:               # TMDB hard cap = 500 pages\n",
    "        params = {\n",
    "            \"primary_release_year\": year,\n",
    "            \"page\": page,\n",
    "            \"sort_by\": \"popularity.asc\",  # any sort works\n",
    "        }\n",
    "        data = await client.get(f\"{BASE}/discover/movie\", params)\n",
    "        ids.extend([m[\"id\"] for m in data[\"results\"]])\n",
    "        if page >= data[\"total_pages\"]:\n",
    "            break\n",
    "        page += 1\n",
    "    return ids\n"
   ]
  },
  {
   "cell_type": "code",
   "execution_count": 5,
   "id": "43bd808f-05a0-4ba0-9943-aab467dd0c8e",
   "metadata": {},
   "outputs": [
    {
     "name": "stderr",
     "output_type": "stream",
     "text": [
      "years: 100%|██████████████████████████████████████| 2/2 [00:11<00:00,  5.90s/it]"
     ]
    },
    {
     "name": "stdout",
     "output_type": "stream",
     "text": [
      "Collected 19,995 unique movie IDs\n"
     ]
    },
    {
     "name": "stderr",
     "output_type": "stream",
     "text": [
      "\n"
     ]
    }
   ],
   "source": [
    "# Collect all movie IDs across 1900-current\n",
    "async def collect_all_ids(start=1900, end=2025):\n",
    "    async with aiohttp.ClientSession() as session:\n",
    "        sem = asyncio.Semaphore(CONCURRENCY)\n",
    "        client = TMDBClient(session, sem)\n",
    "        tasks = [discover_ids(y, client) for y in range(start, end + 1)]\n",
    "        all_years = []\n",
    "        for coro in tqdm(asyncio.as_completed(tasks), total=len(tasks), desc=\"years\"):\n",
    "            all_years.extend(await coro)\n",
    "    uniq_ids = sorted(set(all_years))\n",
    "    print(f\"Collected {len(uniq_ids):,} unique movie IDs\")\n",
    "    # Replace the failing line\n",
    "    pd.DataFrame({\"movie_id\": uniq_ids}).to_parquet(\n",
    "        PROC_DIR / \"all_movie_ids.parquet\"\n",
    "    )\n",
    "    #pd.Series(uniq_ids, name=\"movie_id\").to_parquet(PROC_DIR / \"all_movie_ids.parquet\")\n",
    "    return uniq_ids\n",
    "\n",
    "all_ids = asyncio.run(collect_all_ids(start=2024))\n"
   ]
  },
  {
   "cell_type": "code",
   "execution_count": 6,
   "id": "7256bea6-17cb-42c6-aaaa-201903a51c12",
   "metadata": {},
   "outputs": [
    {
     "name": "stdout",
     "output_type": "stream",
     "text": [
      "Sample saved: 19990\n"
     ]
    }
   ],
   "source": [
    "# Sampling\n",
    "if SAMPLE_SIZE > len(all_ids):\n",
    "    sample_ids = all_ids\n",
    "else\n",
    "    sample_ids = random.sample(all_ids, SAMPLE_SIZE)\n",
    "#pd.Series(sample_ids, name=\"movie_id\").to_parquet(PROC_DIR / \"sample_ids.parquet\")\n",
    "pd.DataFrame({\"movie_id\": sample_ids}).to_parquet(PROC_DIR / \"sample_ids.parquet\")\n",
    "print(\"Sample saved:\", len(sample_ids))\n"
   ]
  },
  {
   "cell_type": "code",
   "execution_count": 7,
   "id": "1120393c-d6d4-4a37-9494-aa79a0b2c8ba",
   "metadata": {},
   "outputs": [],
   "source": [
    "# Fetch full details (+keywords+providers) for one ID\n",
    "async def fetch_one(mid: int, client: TMDBClient) -> Dict[str, Any]:\n",
    "    try:\n",
    "        return await client.get(\n",
    "            f\"{BASE}/movie/{mid}\",\n",
    "            params={\"language\": \"en-US\", \"append_to_response\": \"keywords,watch/providers\"}\n",
    "        )\n",
    "    except Exception as e:\n",
    "        return {\"id\": mid, \"__error__\": str(e)}\n"
   ]
  },
  {
   "cell_type": "code",
   "execution_count": 8,
   "id": "5d83b378-6915-4758-ac7b-4699c79561cd",
   "metadata": {},
   "outputs": [
    {
     "name": "stderr",
     "output_type": "stream",
     "text": [
      "movies: 100%|█████████████████████████████| 19990/19990 [38:41<00:00,  8.61it/s]\n"
     ]
    }
   ],
   "source": [
    "# Bulk fetch with asyncio\n",
    "\n",
    "async def fetch_many(ids: List[int], batch_name=\"movies\"):\n",
    "    async with aiohttp.ClientSession() as session:\n",
    "        sem = asyncio.Semaphore(CONCURRENCY)\n",
    "        client = TMDBClient(session, sem)\n",
    "        tasks = [fetch_one(mid, client) for mid in ids]\n",
    "        \n",
    "        out = []\n",
    "        for fut in tqdm(asyncio.as_completed(tasks), total=len(tasks), desc=batch_name):\n",
    "            out.append(await fut)\n",
    "        return out\n",
    "\n",
    "raw_movies = asyncio.run(fetch_many(sample_ids))\n",
    "# Persist raw JSONL\n",
    "with open(RAW_DIR / \"movies_sample.jsonl\", \"w\") as fp:\n",
    "    for item in raw_movies:\n",
    "        fp.write(json.dumps(item, ensure_ascii=False) + \"\\n\")\n"
   ]
  },
  {
   "cell_type": "code",
   "execution_count": 9,
   "id": "1db2a3dd-1650-49fe-86fa-3a2619115b2e",
   "metadata": {},
   "outputs": [],
   "source": [
    "# Normalize into clean tables\n",
    "def explode_movies(raw: List[Dict[str, Any]]):\n",
    "    records_basic, records_kw, records_prov = [], [], []\n",
    "    for doc in raw:\n",
    "        if \"__error__\" in doc:              # skip or log failures\n",
    "            continue\n",
    "        mid = doc[\"id\"]\n",
    "        # --- keywords block -------------------------------------------------\n",
    "        kw_objs = doc.get(\"keywords\", {}).get(\"keywords\", [])\n",
    "        kw_names = [kw[\"name\"] for kw in kw_objs]\n",
    "        for kw in kw_objs:\n",
    "            records_kw.append({\"movie_id\": mid, \"keyword\": kw[\"name\"]})\n",
    "\n",
    "        # --- providers block ------------------------------------------------\n",
    "        prov_results = doc.get(\"watch/providers\", {}).get(\"results\", {})\n",
    "        prov_name_set = set()\n",
    "        for country, blob in prov_results.items():\n",
    "            for ptype in (\"flatrate\", \"ads\", \"buy\", \"rent\"):\n",
    "                for prov in blob.get(ptype, []):\n",
    "                    prov_name_set.add(prov[\"provider_name\"])\n",
    "                    records_prov.append({\n",
    "                        \"movie_id\":     mid,\n",
    "                        \"country\":      country,\n",
    "                        \"access\":       ptype,\n",
    "                        \"provider_id\":  prov[\"provider_id\"],\n",
    "                        \"provider_name\":prov[\"provider_name\"]\n",
    "                    })\n",
    "        \n",
    "        # --- basic ---\n",
    "        records_basic.append({\n",
    "            \"movie_id\": mid,\n",
    "            \"title\": doc.get(\"title\"),\n",
    "            \"tagline\": doc.get(\"tagline\"),\n",
    "            \"overview\": doc.get(\"overview\"),\n",
    "            \"vote_average\": doc.get(\"vote_average\"),\n",
    "            \"runtime\": doc.get(\"runtime\"),\n",
    "            \"release_date\": doc.get(\"release_date\"),\n",
    "            \"genres\": [g[\"name\"] for g in doc.get(\"genres\", [])],\n",
    "            \"keywords_list\":   kw_names,\n",
    "            \"providers_list\":  sorted(prov_name_set),\n",
    "        })\n",
    "    return (\n",
    "        pd.DataFrame(records_basic),\n",
    "        pd.DataFrame(records_kw),\n",
    "        pd.DataFrame(records_prov)\n",
    "    )\n",
    "\n",
    "df_movies, df_kw, df_prov = explode_movies(raw_movies)\n",
    "df_movies.to_parquet(PROC_DIR / \"movies.parquet\")\n",
    "df_kw.to_parquet(PROC_DIR / \"keywords.parquet\")\n",
    "df_prov.to_parquet(PROC_DIR / \"providers.parquet\")\n"
   ]
  },
  {
   "cell_type": "code",
   "execution_count": 10,
   "id": "27e0ec3d-eeb9-4003-a94d-3d2d401ce057",
   "metadata": {},
   "outputs": [
    {
     "name": "stdout",
     "output_type": "stream",
     "text": [
      "movies     19986\n",
      "keywords   10329\n",
      "providers  4274\n"
     ]
    },
    {
     "data": {
      "text/html": [
       "<div>\n",
       "<style scoped>\n",
       "    .dataframe tbody tr th:only-of-type {\n",
       "        vertical-align: middle;\n",
       "    }\n",
       "\n",
       "    .dataframe tbody tr th {\n",
       "        vertical-align: top;\n",
       "    }\n",
       "\n",
       "    .dataframe thead th {\n",
       "        text-align: right;\n",
       "    }\n",
       "</style>\n",
       "<table border=\"1\" class=\"dataframe\">\n",
       "  <thead>\n",
       "    <tr style=\"text-align: right;\">\n",
       "      <th></th>\n",
       "      <th>movie_id</th>\n",
       "      <th>title</th>\n",
       "      <th>tagline</th>\n",
       "      <th>overview</th>\n",
       "      <th>vote_average</th>\n",
       "      <th>runtime</th>\n",
       "      <th>release_date</th>\n",
       "      <th>genres</th>\n",
       "      <th>keywords_list</th>\n",
       "      <th>providers_list</th>\n",
       "    </tr>\n",
       "  </thead>\n",
       "  <tbody>\n",
       "    <tr>\n",
       "      <th>0</th>\n",
       "      <td>1363475</td>\n",
       "      <td>Into the Reds Tale</td>\n",
       "      <td></td>\n",
       "      <td>An abomination mimic creature enters the story...</td>\n",
       "      <td>0.0</td>\n",
       "      <td>4</td>\n",
       "      <td>2025-06-27</td>\n",
       "      <td>[Animation, Horror, Fantasy]</td>\n",
       "      <td>[]</td>\n",
       "      <td>[]</td>\n",
       "    </tr>\n",
       "    <tr>\n",
       "      <th>1</th>\n",
       "      <td>1355895</td>\n",
       "      <td>Pader</td>\n",
       "      <td></td>\n",
       "      <td>A young boy, clad in a dunce cap and lion's pa...</td>\n",
       "      <td>0.0</td>\n",
       "      <td>8</td>\n",
       "      <td>2024-09-01</td>\n",
       "      <td>[]</td>\n",
       "      <td>[]</td>\n",
       "      <td>[]</td>\n",
       "    </tr>\n",
       "    <tr>\n",
       "      <th>2</th>\n",
       "      <td>1285711</td>\n",
       "      <td>Dadfest</td>\n",
       "      <td></td>\n",
       "      <td>The long-simmering tension between two sisters...</td>\n",
       "      <td>0.0</td>\n",
       "      <td>0</td>\n",
       "      <td>2024-02-21</td>\n",
       "      <td>[]</td>\n",
       "      <td>[]</td>\n",
       "      <td>[]</td>\n",
       "    </tr>\n",
       "    <tr>\n",
       "      <th>3</th>\n",
       "      <td>1495436</td>\n",
       "      <td>The Deadline</td>\n",
       "      <td>You can't escape it!</td>\n",
       "      <td>A writer struggles to turn in his screenplay b...</td>\n",
       "      <td>0.0</td>\n",
       "      <td>11</td>\n",
       "      <td>2025-06-02</td>\n",
       "      <td>[Comedy]</td>\n",
       "      <td>[screenwriting]</td>\n",
       "      <td>[]</td>\n",
       "    </tr>\n",
       "    <tr>\n",
       "      <th>4</th>\n",
       "      <td>1481039</td>\n",
       "      <td>Pollastra All Along</td>\n",
       "      <td></td>\n",
       "      <td></td>\n",
       "      <td>10.0</td>\n",
       "      <td>0</td>\n",
       "      <td>2025-05-11</td>\n",
       "      <td>[Comedy, Adventure, Music, Documentary, Mystery]</td>\n",
       "      <td>[psicologia, hilarious, viaggio]</td>\n",
       "      <td>[]</td>\n",
       "    </tr>\n",
       "  </tbody>\n",
       "</table>\n",
       "</div>"
      ],
      "text/plain": [
       "   movie_id                title               tagline  \\\n",
       "0   1363475   Into the Reds Tale                         \n",
       "1   1355895                Pader                         \n",
       "2   1285711              Dadfest                         \n",
       "3   1495436         The Deadline  You can't escape it!   \n",
       "4   1481039  Pollastra All Along                         \n",
       "\n",
       "                                            overview  vote_average  runtime  \\\n",
       "0  An abomination mimic creature enters the story...           0.0        4   \n",
       "1  A young boy, clad in a dunce cap and lion's pa...           0.0        8   \n",
       "2  The long-simmering tension between two sisters...           0.0        0   \n",
       "3  A writer struggles to turn in his screenplay b...           0.0       11   \n",
       "4                                                             10.0        0   \n",
       "\n",
       "  release_date                                            genres  \\\n",
       "0   2025-06-27                      [Animation, Horror, Fantasy]   \n",
       "1   2024-09-01                                                []   \n",
       "2   2024-02-21                                                []   \n",
       "3   2025-06-02                                          [Comedy]   \n",
       "4   2025-05-11  [Comedy, Adventure, Music, Documentary, Mystery]   \n",
       "\n",
       "                      keywords_list providers_list  \n",
       "0                                []             []  \n",
       "1                                []             []  \n",
       "2                                []             []  \n",
       "3                   [screenwriting]             []  \n",
       "4  [psicologia, hilarious, viaggio]             []  "
      ]
     },
     "execution_count": 10,
     "metadata": {},
     "output_type": "execute_result"
    }
   ],
   "source": [
    "# Sanity checks\n",
    "for name, df in [\n",
    "    (\"movies\", df_movies),\n",
    "    (\"keywords\", df_kw),\n",
    "    (\"providers\", df_prov),\n",
    "]:\n",
    "    print(f\"{name:10s}\", len(df))\n",
    "df_movies.head()\n"
   ]
  },
  {
   "cell_type": "code",
   "execution_count": 11,
   "id": "792fbe33-fd87-49fc-8509-45af22ecc599",
   "metadata": {},
   "outputs": [
    {
     "name": "stderr",
     "output_type": "stream",
     "text": [
      "movies: 100%|█████████████████████████████████████| 3/3 [00:00<00:00, 13.78it/s]\n"
     ]
    }
   ],
   "source": [
    "# Test scripts\n",
    "movies = [1,2,3]\n",
    "\n",
    "raw_movies = asyncio.run(fetch_many(movies))\n",
    "# Persist raw JSONL\n",
    "with open(RAW_DIR / \"movies_sample.jsonl\", \"w\") as fp:\n",
    "    for item in raw_movies:\n",
    "        fp.write(json.dumps(item, ensure_ascii=False) + \"\\n\")"
   ]
  }
 ],
 "metadata": {
  "kernelspec": {
   "display_name": "Python 3 (ipykernel)",
   "language": "python",
   "name": "python3"
  },
  "language_info": {
   "codemirror_mode": {
    "name": "ipython",
    "version": 3
   },
   "file_extension": ".py",
   "mimetype": "text/x-python",
   "name": "python",
   "nbconvert_exporter": "python",
   "pygments_lexer": "ipython3",
   "version": "3.13.5"
  }
 },
 "nbformat": 4,
 "nbformat_minor": 5
}
