{
 "cells": [
  {
   "cell_type": "code",
   "execution_count": 1,
   "id": "b89e96ef-c48c-4a07-bcd7-0377e10d6e7e",
   "metadata": {
    "scrolled": true
   },
   "outputs": [
    {
     "name": "stdout",
     "output_type": "stream",
     "text": [
      "Requirement already satisfied: duckdb in /Users/ojaskulkarni/dev/movie-recommendation/movie_env/lib/python3.13/site-packages (1.3.2)\n",
      "Note: you may need to restart the kernel to use updated packages.\n",
      "Requirement already satisfied: chromadb in /Users/ojaskulkarni/dev/movie-recommendation/movie_env/lib/python3.13/site-packages (1.0.15)\n",
      "Requirement already satisfied: python-dotenv in /Users/ojaskulkarni/dev/movie-recommendation/movie_env/lib/python3.13/site-packages (1.1.1)\n",
      "Note: you may need to restart the kernel to use updated packages.\n",
      "Note: you may need to restart the kernel to use updated packages.\n"
     ]
    }
   ],
   "source": [
    "%pip install --no-deps duckdb\n",
    "%pip install --no-deps chromadb python-dotenv\n",
    "%pip install -q pyarrow pandas tqdm langchain-community"
   ]
  },
  {
   "cell_type": "code",
   "execution_count": 2,
   "id": "b583ba84-dd82-41c8-9635-10ab6532e8a7",
   "metadata": {},
   "outputs": [],
   "source": [
    "import os, re, math, json, time\n",
    "from pathlib import Path\n",
    "import pandas as pd\n",
    "import duckdb\n",
    "from tqdm.auto import tqdm\n",
    "from langchain_community.vectorstores import Chroma\n",
    "from langchain_community.embeddings import OllamaEmbeddings\n",
    "import numpy as np, math"
   ]
  },
  {
   "cell_type": "code",
   "execution_count": 3,
   "id": "67ebe559-9431-4fb8-abd5-79ede8dfd7da",
   "metadata": {},
   "outputs": [],
   "source": [
    "# Config & paths\n",
    "DATA_DIR   = Path(\"data/processed\")   # Parquet input\n",
    "CHROMA_DIR = Path(\"vector_store\")     # will be created\n",
    "DUCK_FILE  = \"meta.duckdb\"            # output\n",
    "\n",
    "EMBED_MODEL = \"nomic-embed-text\"      # must exist in `ollama list`\n",
    "\n",
    "CHROMA_DIR.mkdir(exist_ok=True, parents=True)"
   ]
  },
  {
   "cell_type": "code",
   "execution_count": 4,
   "id": "7d24c237-7d76-4666-80f3-12e7b4bfc64c",
   "metadata": {},
   "outputs": [
    {
     "name": "stdout",
     "output_type": "stream",
     "text": [
      "Rows loaded: 19986\n"
     ]
    },
    {
     "data": {
      "text/html": [
       "<div>\n",
       "<style scoped>\n",
       "    .dataframe tbody tr th:only-of-type {\n",
       "        vertical-align: middle;\n",
       "    }\n",
       "\n",
       "    .dataframe tbody tr th {\n",
       "        vertical-align: top;\n",
       "    }\n",
       "\n",
       "    .dataframe thead th {\n",
       "        text-align: right;\n",
       "    }\n",
       "</style>\n",
       "<table border=\"1\" class=\"dataframe\">\n",
       "  <thead>\n",
       "    <tr style=\"text-align: right;\">\n",
       "      <th></th>\n",
       "      <th>movie_id</th>\n",
       "      <th>title</th>\n",
       "      <th>tagline</th>\n",
       "      <th>overview</th>\n",
       "      <th>vote_average</th>\n",
       "      <th>runtime</th>\n",
       "      <th>release_date</th>\n",
       "      <th>genres</th>\n",
       "      <th>keywords_list</th>\n",
       "      <th>providers_list</th>\n",
       "    </tr>\n",
       "  </thead>\n",
       "  <tbody>\n",
       "    <tr>\n",
       "      <th>0</th>\n",
       "      <td>1363475</td>\n",
       "      <td>Into the Reds Tale</td>\n",
       "      <td></td>\n",
       "      <td>An abomination mimic creature enters the story...</td>\n",
       "      <td>0.0</td>\n",
       "      <td>4</td>\n",
       "      <td>2025-06-27</td>\n",
       "      <td>[Animation, Horror, Fantasy]</td>\n",
       "      <td>[]</td>\n",
       "      <td>[]</td>\n",
       "    </tr>\n",
       "    <tr>\n",
       "      <th>1</th>\n",
       "      <td>1355895</td>\n",
       "      <td>Pader</td>\n",
       "      <td></td>\n",
       "      <td>A young boy, clad in a dunce cap and lion's pa...</td>\n",
       "      <td>0.0</td>\n",
       "      <td>8</td>\n",
       "      <td>2024-09-01</td>\n",
       "      <td>[]</td>\n",
       "      <td>[]</td>\n",
       "      <td>[]</td>\n",
       "    </tr>\n",
       "  </tbody>\n",
       "</table>\n",
       "</div>"
      ],
      "text/plain": [
       "   movie_id               title tagline  \\\n",
       "0   1363475  Into the Reds Tale           \n",
       "1   1355895               Pader           \n",
       "\n",
       "                                            overview  vote_average  runtime  \\\n",
       "0  An abomination mimic creature enters the story...           0.0        4   \n",
       "1  A young boy, clad in a dunce cap and lion's pa...           0.0        8   \n",
       "\n",
       "  release_date                        genres keywords_list providers_list  \n",
       "0   2025-06-27  [Animation, Horror, Fantasy]            []             []  \n",
       "1   2024-09-01                            []            []             []  "
      ]
     },
     "execution_count": 4,
     "metadata": {},
     "output_type": "execute_result"
    }
   ],
   "source": [
    "df = pd.read_parquet(DATA_DIR / \"movies.parquet\")\n",
    "print(\"Rows loaded:\", len(df))\n",
    "df.head(2)"
   ]
  },
  {
   "cell_type": "code",
   "execution_count": 5,
   "id": "25233acd-21dc-47bc-9d02-e63be81a6e53",
   "metadata": {},
   "outputs": [],
   "source": [
    "# Minimal clean & augment for any stray html tags\n",
    "def strip_html(txt: str) -> str:\n",
    "    if not isinstance(txt, str): \n",
    "        return \"\"\n",
    "    return re.sub(\"<[^>]+>\", \" \", txt).replace(\"\\n\", \" \").strip()\n",
    "    \n",
    "def to_list_of_str(obj):\n",
    "    \"Always return a plain Python list[str] (no ndarray).\"\n",
    "    if obj is None or (isinstance(obj, float) and math.isnan(obj)):\n",
    "        return []\n",
    "    if isinstance(obj, np.ndarray):\n",
    "        return [str(x) for x in obj.tolist()]\n",
    "    if isinstance(obj, (list, tuple, set)):\n",
    "        return [str(x) for x in obj]\n",
    "    return [str(obj)]\n",
    "\n",
    "df[\"title\"]    = df[\"title\"].fillna(\"\").str.strip()\n",
    "df[\"tagline\"]  = df[\"tagline\"].fillna(\"\").apply(strip_html).str.lower()\n",
    "df[\"overview\"] = df[\"overview\"].fillna(\"\").apply(strip_html).str.lower()\n",
    "\n",
    "# derive numeric columns\n",
    "df[\"release_year\"] = pd.to_datetime(df[\"release_date\"], errors=\"coerce\").dt.year\n",
    "df[\"decade\"]       = (df[\"release_year\"] // 10) * 10\n",
    "\n",
    "# primitive list creation, because it causes problems with embeddings\n",
    "df[\"genres\"]         = df[\"genres\"].apply(to_list_of_str)\n",
    "df[\"providers_list\"] = df[\"providers_list\"].apply(to_list_of_str)\n",
    "df[\"keywords_list\"]  = df[\"keywords_list\"].apply(to_list_of_str)\n",
    "\n",
    "# sanity check\n",
    "assert df[\"genres\"].apply(lambda g: isinstance(g, list)).all()"
   ]
  },
  {
   "cell_type": "code",
   "execution_count": 6,
   "id": "a73132ff-8cca-4cd2-bd4b-e8e9f27a5815",
   "metadata": {},
   "outputs": [
    {
     "data": {
      "text/plain": [
       "0    Into the Reds Tale. an abomination mimic creat...\n",
       "1    Pader. a young boy, clad in a dunce cap and li...\n",
       "2    Dadfest. the long-simmering tension between tw...\n",
       "3    The Deadline. you can't escape it!. a writer s...\n",
       "4    Pollastra All Along. keywords: psicologia, hil...\n",
       "Name: text_for_embed, dtype: object"
      ]
     },
     "execution_count": 6,
     "metadata": {},
     "output_type": "execute_result"
    }
   ],
   "source": [
    "# Build `text_for_embed`\n",
    "def make_text(row):\n",
    "    kw_list = row[\"keywords_list\"]\n",
    "    if isinstance(kw_list, float) and math.isnan(kw_list):\n",
    "        kw_list = []                      # handle NaN\n",
    "    kw_list = list(kw_list)               # NumPy → Python list\n",
    "    kws = \", \".join(kw_list) if len(kw_list) else \"\"\n",
    "    \n",
    "    parts = [row[\"title\"], row[\"tagline\"], row[\"overview\"], f\"keywords: {kws}\"]\n",
    "    return \". \".join(p for p in parts if p)\n",
    "\n",
    "df[\"text_for_embed\"] = df.apply(make_text, axis=1)\n",
    "df[\"text_for_embed\"].str.slice(0, 120).head()\n"
   ]
  },
  {
   "cell_type": "code",
   "execution_count": 7,
   "id": "6a8dba1e-c544-4fcf-8dfc-30c72c12cc4c",
   "metadata": {},
   "outputs": [
    {
     "name": "stderr",
     "output_type": "stream",
     "text": [
      "/var/folders/gq/7yf_r66s183874jprrn7q7440000gn/T/ipykernel_82285/215189986.py:2: LangChainDeprecationWarning: The class `OllamaEmbeddings` was deprecated in LangChain 0.3.1 and will be removed in 1.0.0. An updated version of the class exists in the :class:`~langchain-ollama package and should be used instead. To use it run `pip install -U :class:`~langchain-ollama` and import as `from :class:`~langchain_ollama import OllamaEmbeddings``.\n",
      "  embed_fn = OllamaEmbeddings(model=EMBED_MODEL)\n"
     ]
    }
   ],
   "source": [
    "# Instantiate embeddings  (Ollama must be running)\n",
    "embed_fn = OllamaEmbeddings(model=EMBED_MODEL)"
   ]
  },
  {
   "cell_type": "code",
   "execution_count": 11,
   "id": "d7ae626c-621b-4a9f-816f-3f6932c688f4",
   "metadata": {},
   "outputs": [
    {
     "data": {
      "application/vnd.jupyter.widget-view+json": {
       "model_id": "cda61a33d6c447c68e8bac7300d41c9b",
       "version_major": 2,
       "version_minor": 0
      },
      "text/plain": [
       "chroma upsert:   0%|          | 0/4 [00:00<?, ?it/s]"
      ]
     },
     "metadata": {},
     "output_type": "display_data"
    },
    {
     "name": "stdout",
     "output_type": "stream",
     "text": [
      "Ingest finished\n",
      "Chroma ingest done in 337 s\n"
     ]
    },
    {
     "name": "stderr",
     "output_type": "stream",
     "text": [
      "/var/folders/gq/7yf_r66s183874jprrn7q7440000gn/T/ipykernel_82285/1172071956.py:48: LangChainDeprecationWarning: Since Chroma 0.4.x the manual persistence method is no longer supported as docs are automatically persisted.\n",
      "  movies_vs.persist()              # one flush at the end\n"
     ]
    }
   ],
   "source": [
    "# Create / populate Chroma collection  (~25–35 min for 200 k rows on M-series CPU)\n",
    "# needed to account for chroma db list compatibility\n",
    "def stringify_lists(meta: dict) -> dict:\n",
    "    \"\"\"Turn any list into a |-separated string; leave primitives unchanged.\"\"\"\n",
    "    out = {}\n",
    "    for k, v in meta.items():\n",
    "        if isinstance(v, list):\n",
    "            out[k] = \"|\".join(v)        # \"Animation|Horror|Fantasy\"\n",
    "        else:\n",
    "            out[k] = v\n",
    "    return out\n",
    "\n",
    "movies_vs = Chroma(\n",
    "    collection_name      = \"movies\",\n",
    "    embedding_function   = embed_fn,\n",
    "    persist_directory    = str(CHROMA_DIR),\n",
    ")\n",
    "\n",
    "docs      = df[\"text_for_embed\"].tolist()\n",
    "metadatas = df.apply(\n",
    "    lambda r: {\n",
    "        \"movie_id\":  int(r.movie_id),\n",
    "        \"title\":     r.title,\n",
    "        \"genres\":    r.genres,          # now plain list[str]\n",
    "        \"providers\": r.providers_list,  # plain list[str]\n",
    "        \"vote_average\": float(r.vote_average) if not math.isnan(r.vote_average) else None,\n",
    "        \"decade\":       int(r.decade) if not math.isnan(r.decade) else None,\n",
    "    },\n",
    "    axis=1\n",
    ").tolist()\n",
    "ids = df.movie_id.astype(str).tolist()  \n",
    "\n",
    "metadatas_safe = [stringify_lists(m) for m in metadatas]\n",
    "\n",
    "t0 = time.time()\n",
    "\n",
    "BATCH = 5_000                    # keep well under 5 461\n",
    "total = len(docs)\n",
    "\n",
    "for i in tqdm(range(0, total, BATCH), desc=\"chroma upsert\"):\n",
    "    j = i + BATCH\n",
    "    movies_vs.add_texts(\n",
    "        texts     = docs[i:j],\n",
    "        metadatas = metadatas_safe[i:j],   # use the list-stringified version from earlier\n",
    "        ids       = ids[i:j],\n",
    "    )\n",
    "\n",
    "movies_vs.persist()              # one flush at the end\n",
    "print(\"Ingest finished\")\n",
    "\n",
    "print(f\"Chroma ingest done in {time.time()-t0:,.0f} s\")\n"
   ]
  },
  {
   "cell_type": "code",
   "execution_count": 12,
   "id": "3f301ca0-c644-4b75-b90a-9d5661e34c45",
   "metadata": {},
   "outputs": [
    {
     "name": "stdout",
     "output_type": "stream",
     "text": [
      "DuckDB rows: 19986\n"
     ]
    }
   ],
   "source": [
    "# Write DuckDB metadata side-store\n",
    "meta_cols = [\"movie_id\", \"title\", \"vote_average\", \"decade\", \"runtime\", \"providers_list\", \"genres\"]\n",
    "con = duckdb.connect(DUCK_FILE)\n",
    "con.register(\"movies_df\", df[meta_cols])\n",
    "con.execute(\"CREATE OR REPLACE TABLE movies_meta AS SELECT * FROM movies_df\")\n",
    "con.close()\n",
    "print(\"DuckDB rows:\", len(df))"
   ]
  },
  {
   "cell_type": "code",
   "execution_count": 30,
   "id": "1ed9e406-ced4-4ed9-80bc-44cfbaf85a00",
   "metadata": {},
   "outputs": [
    {
     "name": "stdout",
     "output_type": "stream",
     "text": [
      "Time Travelers Overture  — vote_avg: 0.0 providers: \n",
      "The Parallel Coast  — vote_avg: 0.0 providers: \n",
      "Half Way Back  — vote_avg: 0.0 providers: \n",
      "Make Good Choices  — vote_avg: 0.0 providers: \n",
      "Nine Awkward Dates  — vote_avg: 0.0 providers: \n",
      "Holmie Day  — vote_avg: 0.0 providers: \n",
      "Scraggliness  — vote_avg: 0.0 providers: \n",
      "it's called round like a head  — vote_avg: 0.0 providers: \n",
      "A Thousand Untaken Paths  — vote_avg: 6.0 providers: \n",
      "Any Place But Here  — vote_avg: 0.0 providers: \n",
      "Our Time Together  — vote_avg: 0.0 providers: \n",
      "A Stone Story  — vote_avg: 0.0 providers: \n",
      "La Fin des slows  — vote_avg: 5.0 providers: \n",
      "Coin Toss  — vote_avg: 0.0 providers: \n",
      "Pointing to the Sun and Laughing (On a Stack of Poems)  — vote_avg: 0.0 providers: \n",
      "time has no place here  — vote_avg: 0.0 providers: \n",
      "Time Metallurgist  — vote_avg: 0.0 providers: \n",
      "Delirios  — vote_avg: 0.0 providers: \n",
      "Hysterical  — vote_avg: 0.0 providers: \n",
      "The Cult of the Parsnip  — vote_avg: 0.0 providers: \n",
      "Man with a Movie Camera  — vote_avg: 0.0 providers: \n",
      "England's Unknown Exploitation Film Eccentric: The Schlock Cinema Legacy of Lindsay Shonteff  — vote_avg: 0.0 providers: \n",
      "Variations on a Life  — vote_avg: 0.0 providers: \n",
      "Looking South  — vote_avg: 0.0 providers: \n",
      "Cervatillo  — vote_avg: 0.0 providers: \n",
      "The Ruins of Seyssuel's Castle  — vote_avg: 0.0 providers: \n",
      "Unexpected Results  — vote_avg: 0.0 providers: \n",
      "Departure Film  — vote_avg: 10.0 providers: \n",
      "Upward Turn  — vote_avg: 0.0 providers: \n",
      "Time Paradox  — vote_avg: 0.0 providers: \n",
      "Whispers Through Time  — vote_avg: 0.0 providers: \n",
      "Behold The Box  — vote_avg: 8.0 providers: \n",
      "april 8th  — vote_avg: 0.0 providers: \n",
      "The Return of the Ghost of Reznikoff  — vote_avg: 0.0 providers: \n",
      "Birdwatcher  — vote_avg: 0.0 providers: \n",
      "Movimentum  — vote_avg: 0.0 providers: \n",
      "Depending on the music...  — vote_avg: 0.0 providers: \n",
      "This Grey  — vote_avg: 0.0 providers: \n",
      "Walk the Walk  — vote_avg: 0.0 providers: \n",
      "Eyes on Us  — vote_avg: 0.0 providers: \n",
      "Gradual Growth  — vote_avg: 0.0 providers: \n",
      "Time Flies By  — vote_avg: 0.0 providers: \n",
      "Reflections  — vote_avg: 0.0 providers: \n",
      "A Bunch of Noises in my Head  — vote_avg: 0.0 providers: \n",
      "The Accompaniment  — vote_avg: 0.0 providers: \n",
      "the days were shorter than i remember  — vote_avg: 0.0 providers: \n",
      "Hands On  — vote_avg: 0.0 providers: \n",
      "Stuck in Muskogee  — vote_avg: 0.0 providers: \n",
      "Mystery Button  — vote_avg: 0.0 providers: \n",
      "A House of Forgotten Objects  — vote_avg: 0.0 providers: \n",
      "PSICOTRÓPICA  — vote_avg: 0.0 providers: \n",
      "The Game Of Doubt  — vote_avg: 0.0 providers: \n",
      "Basho House  — vote_avg: 0.0 providers: \n",
      "Layers of Reed  — vote_avg: 0.0 providers: \n",
      "in houses just like these  — vote_avg: 0.0 providers: \n",
      "Political Cinema  — vote_avg: 10.0 providers: \n",
      "A Not So Perfect Wedding  — vote_avg: 0.0 providers: \n",
      "Aurum  — vote_avg: 0.0 providers: \n",
      "Ephemeral  — vote_avg: 0.0 providers: \n",
      "Conversation with Two Lovers  — vote_avg: 0.0 providers: \n",
      "From the Tunnel of Faded Memory  — vote_avg: 0.0 providers: \n",
      "To She Who Is Too Happy  — vote_avg: 0.0 providers: \n",
      "Ruins of a Childhood Memory  — vote_avg: 0.0 providers: \n",
      "L'Image de la culture  — vote_avg: 0.0 providers: \n",
      "Threads Through Time  — vote_avg: 8.0 providers: \n",
      "Collector  — vote_avg: 0.0 providers: \n",
      "nineoneone  — vote_avg: 0.0 providers: \n",
      "glory's hole antiverse  — vote_avg: 0.0 providers: \n",
      "Parkinson meets the Past  — vote_avg: 0.0 providers: \n",
      "Lost Heart  — vote_avg: 0.0 providers: \n",
      "The Lost  — vote_avg: 0.0 providers: \n",
      "Treasure Hunt  — vote_avg: 0.0 providers: \n",
      "Iklonom's Heavy Machinery  — vote_avg: 0.0 providers: \n",
      "In the Mix with Jabaar Edmond  — vote_avg: 0.0 providers: \n",
      "Brylluppet  — vote_avg: 0.0 providers: \n",
      "The Guide  — vote_avg: 0.0 providers: \n",
      "23:13  — vote_avg: 0.0 providers: \n",
      "june 9th  — vote_avg: 0.0 providers: \n",
      "Bubble of Tranquility  — vote_avg: 0.0 providers: \n",
      "Falas de Orgulho  — vote_avg: 0.0 providers: \n",
      "Towards Mina  — vote_avg: 0.0 providers: \n",
      "34  — vote_avg: 0.0 providers: \n",
      "Nothing Never Ends.  — vote_avg: 7.0 providers: \n",
      "Beneath the Skin of the City  — vote_avg: 7.0 providers: \n",
      "Film Without Story  — vote_avg: 0.0 providers: \n",
      "Cult Classic  — vote_avg: 0.0 providers: \n",
      "Night Trees  — vote_avg: 0.0 providers: \n",
      "Inspirations  — vote_avg: 0.0 providers: \n",
      "The making of \"Il Kapitano: Una dedica a Francesco Silvestre\"  — vote_avg: 0.0 providers: \n",
      "and so we remembered  — vote_avg: 0.0 providers: \n",
      "CINÉMATEUR  — vote_avg: 0.0 providers: \n",
      "The Mansion  — vote_avg: 0.0 providers: \n",
      "Food and Music  — vote_avg: 0.0 providers: \n",
      "Toward a Course Bend All  — vote_avg: 0.0 providers: \n",
      "edgewater  — vote_avg: 0.0 providers: \n",
      "The A Files  — vote_avg: 0.0 providers: \n",
      "Where the Color and Sun Meet Together  — vote_avg: 7.0 providers: \n",
      "Captured by the Moment  — vote_avg: 0.0 providers: \n",
      "Have You Done It Yet?  — vote_avg: 0.0 providers: \n",
      "Some Real Places  — vote_avg: 0.0 providers: \n"
     ]
    }
   ],
   "source": [
    "# Smoke-test similarity search\n",
    "vs = Chroma(\n",
    "    collection_name   = \"movies\",\n",
    "    embedding_function= embed_fn,\n",
    "    persist_directory = str(CHROMA_DIR),\n",
    ")\n",
    "hits = vs.similarity_search(\n",
    "    query  = \"eccentric history film\",\n",
    "    k      = 100\n",
    ")\n",
    "# filter = {\"providers\": {\"$in\": [\"Disney+\"]}}\n",
    "for h in hits:\n",
    "    print(f\"{h.metadata['title']}  — vote_avg: {h.metadata['vote_average']} providers: {h.metadata['providers'][:3]}\")\n"
   ]
  },
  {
   "cell_type": "code",
   "execution_count": null,
   "id": "a5dfdd16-5d1e-4070-a9ff-caf1c1ef9754",
   "metadata": {},
   "outputs": [],
   "source": []
  }
 ],
 "metadata": {
  "kernelspec": {
   "display_name": "Python 3 (ipykernel)",
   "language": "python",
   "name": "python3"
  },
  "language_info": {
   "codemirror_mode": {
    "name": "ipython",
    "version": 3
   },
   "file_extension": ".py",
   "mimetype": "text/x-python",
   "name": "python",
   "nbconvert_exporter": "python",
   "pygments_lexer": "ipython3",
   "version": "3.13.5"
  }
 },
 "nbformat": 4,
 "nbformat_minor": 5
}
